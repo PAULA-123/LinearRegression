{
 "cells": [
  {
   "cell_type": "markdown",
   "metadata": {},
   "source": [
    "## Descrição das variáveis:\n"
   ]
  },
  {
   "cell_type": "markdown",
   "metadata": {},
   "source": [
    "* Airline: Nome do compainha aérea. É uma variável categórica com 6 tipos diferentes de companhias.\n",
    "* Flight : Informação sobre o código de voo do avião. É uma variável categórica.\n",
    "* Source City: Cidade a qual o voo decola. É uma variável categórica com 6 cidades diferentes.\n",
    "* Departure Time: É uma variável derivada, obtida pelo agrupamento dos períodos de tempo. É uma variável categoricas com 6 períodos de horários diferentes.\n",
    "* Stops: Números de paradas entre a cidade de origem e destino. É uma variável categórica a qual pode ser atribuida zero, um , ou duas ou mais paradas.\n",
    "* Arrival Time: Horário de chegada, obtido pelo agrupamento de intervalos de tempo. É uma variável categórica que possui 6 tipos distintos que mantém informações sobre o horário de chegada do voo.\n",
    "* Destination City: Cidade de destino , lugar onde o voo pousará. É uma variável categórica que pode assumir uma das 6 cidades avaliadas.\n",
    "* Class: contém informações sobre a classe do assento. É uma variável categórica que pode assumir um dos dois valores distintos: Business ou Economy. \n",
    "* Duration: tempo total de duração do voo entre as cidades, em horas. É uma variável contínua.\n",
    "* Days Left: Dias restantes,calculada subtraindo o data da viagem pela data da reserva. É uma variável contínua. \n",
    "* Price: Preço da passagem. É a variável contínua a ser prevista pelo método de mínimos quadrados."
   ]
  },
  {
   "cell_type": "markdown",
   "metadata": {},
   "source": []
  }
 ],
 "metadata": {
  "language_info": {
   "name": "python"
  }
 },
 "nbformat": 4,
 "nbformat_minor": 2
}
