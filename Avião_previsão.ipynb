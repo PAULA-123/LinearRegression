{
 "cells": [
  {
   "cell_type": "markdown",
   "metadata": {},
   "source": [
    "## Descrição das variáveis:\n"
   ]
  },
  {
   "cell_type": "markdown",
   "metadata": {},
   "source": [
    "* Airline: Nome do compainha aérea. É uma variável categórica com 6 tipos diferentes de companhias.\n",
    "* Flight : Informação sobre o código de voo do avião. É uma variável categórica.\n",
    "* Source City: Cidade a qual o voo sai. É uma variável categórica"
   ]
  },
  {
   "cell_type": "markdown",
   "metadata": {},
   "source": [
    "1) Airline: The name of the airline company is stored in the airline column. It is a categorical feature having 6 different airlines.\n",
    "2) Flight: Flight stores information regarding the plane's flight code. It is a categorical feature.\n",
    "3) Source City: City from which the flight takes off. It is a categorical feature having 6 unique cities.\n",
    "4) Departure Time: This is a derived categorical feature obtained created by grouping time periods into bins. It stores information about the departure time and have 6 unique time labels.\n",
    "5) Stops: A categorical feature with 3 distinct values that stores the number of stops between the source and destination cities.\n",
    "6) Arrival Time: This is a derived categorical feature created by grouping time intervals into bins. It has six distinct time labels and keeps information about the arrival time.\n",
    "7) Destination City: City where the flight will land. It is a categorical feature having 6 unique cities.\n",
    "8) Class: A categorical feature that contains information on seat class; it has two distinct values: Business and Economy.\n",
    "9) Duration: A continuous feature that displays the overall amount of time it takes to travel between cities in hours.\n",
    "10)Days Left: This is a derived characteristic that is calculated by subtracting the trip date by the booking date.\n",
    "11) Price: Target variable stores information of the ticket price."
   ]
  }
 ],
 "metadata": {
  "language_info": {
   "name": "python"
  }
 },
 "nbformat": 4,
 "nbformat_minor": 2
}
